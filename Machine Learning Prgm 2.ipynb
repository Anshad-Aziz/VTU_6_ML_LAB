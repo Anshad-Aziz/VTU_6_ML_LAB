{
 "cells": [
  {
   "cell_type": "code",
   "execution_count": 2,
   "metadata": {},
   "outputs": [],
   "source": [
    "import numpy as np\n",
    "import pandas as pd"
   ]
  },
  {
   "cell_type": "code",
   "execution_count": 4,
   "metadata": {},
   "outputs": [
    {
     "name": "stdout",
     "output_type": "stream",
     "text": [
      "   Example    Sky AirTemp Huidity    Wind Water Forecast EnjoySport\n",
      "0        1  sunny    warm  normal  strong  warm     same        yes\n",
      "1        2  sunny    warm    high  strong  warm     same        yes\n",
      "2        3  rainy    cold    high  strong  warm   change         no\n",
      "3        4  sunny    warm    high  strong  cool   change        yes\n"
     ]
    }
   ],
   "source": [
    "data=pd.read_csv(\"D:\\Machine  Learning\\prgm1.csv\")\n",
    "print(data)"
   ]
  },
  {
   "cell_type": "code",
   "execution_count": 8,
   "metadata": {},
   "outputs": [
    {
     "name": "stdout",
     "output_type": "stream",
     "text": [
      "NULL\n",
      "['?', '?', '?', '?', '?', '?']\n"
     ]
    }
   ],
   "source": [
    "s=[\"NULL\",\"NULL\",\"NULL\",\"NULL\",\"NULL\",\"NULL\"]\n",
    "g=[['?' for i in range(0,len(s))]for j in range (len(s))]\n",
    "print(s[1])\n",
    "print(g[1])"
   ]
  },
  {
   "cell_type": "code",
   "execution_count": 10,
   "metadata": {},
   "outputs": [
    {
     "name": "stdout",
     "output_type": "stream",
     "text": [
      "[[1 'sunny' 'warm' 'normal' 'strong' 'warm' 'same']\n",
      " [2 'sunny' 'warm' 'high' 'strong' 'warm' 'same']\n",
      " [3 'rainy' 'cold' 'high' 'strong' 'warm' 'change']\n",
      " [4 'sunny' 'warm' 'high' 'strong' 'cool' 'change']]\n"
     ]
    }
   ],
   "source": [
    "d=np.array(data)[:,:-1]\n",
    "print(d)"
   ]
  },
  {
   "cell_type": "code",
   "execution_count": 12,
   "metadata": {},
   "outputs": [
    {
     "name": "stdout",
     "output_type": "stream",
     "text": [
      "n the target is:  ['yes' 'yes' 'no' 'yes']\n"
     ]
    }
   ],
   "source": [
    "target=np.array(data)[:,-1]\n",
    "print(\"n the target is: \", target)                                                                                                                                                                                                                                                                       "
   ]
  },
  {
   "cell_type": "code",
   "execution_count": 14,
   "metadata": {},
   "outputs": [
    {
     "name": "stdout",
     "output_type": "stream",
     "text": [
      "yes\n",
      "[1 'sunny' 'warm' 'normal' 'strong' 'warm' 'same']\n",
      "1\n"
     ]
    }
   ],
   "source": [
    "print(target[0])\n",
    "print(d[0])\n",
    "print(d[0][0])"
   ]
  },
  {
   "cell_type": "code",
   "execution_count": 16,
   "metadata": {},
   "outputs": [
    {
     "name": "stdout",
     "output_type": "stream",
     "text": [
      "inside the loop\n",
      "['sunny', 'warm', 'normal', 'strong', 'warm', 'same']\n"
     ]
    }
   ],
   "source": [
    "if target[0]=='yes':\n",
    "    print(\"inside the loop\")\n",
    "    s[0]=d[0][1]\n",
    "    s[1]=d[0][2]\n",
    "    s[2]=d[0][3]\n",
    "    s[3]=d[0][4]\n",
    "    s[4]=d[0][5]\n",
    "    s[5]=d[0][6]\n",
    "    print(s) "
   ]
  },
  {
   "cell_type": "code",
   "execution_count": null,
   "metadata": {},
   "outputs": [],
   "source": []
  },
  {
   "cell_type": "code",
   "execution_count": 21,
   "metadata": {},
   "outputs": [
    {
     "name": "stdout",
     "output_type": "stream",
     "text": [
      "yes\n",
      "sunny\n",
      "['sunny', 'warm', 'normal', 'strong', 'warm', 'same']\n",
      "s: ['sunny', 'warm', 'normal', 'strong', 'warm', 'same']\n",
      "s: ['sunny', 'warm', '?', 'strong', 'warm', 'same']\n",
      "g: [['sunny', '?', '?', '?', '?', '?'], ['?', 'warm', '?', '?', '?', '?'], ['?', '?', '?', '?', '?', '?'], ['?', '?', '?', '?', '?', '?'], ['?', '?', '?', '?', '?', '?'], ['?', '?', '?', '?', '?', 'same']]\n",
      "s: ['sunny', 'warm', '?', 'strong', '?', '?']\n"
     ]
    }
   ],
   "source": [
    "import numpy as np\n",
    "import pandas as pd\n",
    "data=pd.read_csv(\"D:\\Machine  Learning\\prgm1.csv\")\n",
    "s=[\"NULL\",\"NULL\",\"NULL\",\"NULL\",\"NULL\",\"NULL\"]\n",
    "g=[[\"?\" for i in range(len(s))]for j in range(len(s))]\n",
    "d=np.array(data)[:,:-1]\n",
    "target=np.array(data)[:,-1]\n",
    "print(target[0])\n",
    "print(d[0,1])\n",
    "if target[0]==\"yes\":\n",
    "    for i in range (0,6):\n",
    "        s[i]=d[0,i+1]\n",
    "print(s)\n",
    "for i in range (0,len(target)):\n",
    "    if target[i]==\"yes\":\n",
    "        for x in range (len(s)):\n",
    "            if s[x]!=d[i,x+1]:\n",
    "                s[x]=\"?\"\n",
    "        print(\"s:\",s)\n",
    "    else:\n",
    "        k=-1\n",
    "        for j in range (0,6):\n",
    "            k=k+1\n",
    "            if d[i,j+1]!=s[j]:\n",
    "                g[k][j]=s[j]\n",
    "            else:\n",
    "                g[k]=['?','?','?','?','?','?']\n",
    "\n",
    "           \n",
    "        print(\"g:\",g)"
   ]
  },
  {
   "cell_type": "code",
   "execution_count": null,
   "metadata": {},
   "outputs": [],
   "source": []
  }
 ],
 "metadata": {
  "kernelspec": {
   "display_name": "Python 3 (ipykernel)",
   "language": "python",
   "name": "python3"
  },
  "language_info": {
   "codemirror_mode": {
    "name": "ipython",
    "version": 3
   },
   "file_extension": ".py",
   "mimetype": "text/x-python",
   "name": "python",
   "nbconvert_exporter": "python",
   "pygments_lexer": "ipython3",
   "version": "3.11.5"
  }
 },
 "nbformat": 4,
 "nbformat_minor": 4
}
